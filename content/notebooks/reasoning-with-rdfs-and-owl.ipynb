{
 "cells": [
  {
   "cell_type": "markdown",
   "metadata": {},
   "source": [
    "## Overview\n",
    "\n",
    "Inference using RDFS and OWL can be a confusing topic as it is not intuitive how topics like Domain and Range work when living with an [Open World Assumption](https://en.wikipedia.org/wiki/Open-world_assumption). It is common for folks to interpret, for example, the Domain of an Object or Data Propery in RDFS as a restriction on allowable values, when that is not what actually takes place during inference. \n",
    "\n",
    "In this post, I'll use the [OWL-RL](https://github.com/RDFLib/OWL-RL) library to show how inference works when specifying the Domain of an Object property to help others avoid some of the modeling errors I'm made and to better understand how inference can be benneficial.\n",
    "\n",
    "First, we'll need an environment to work in, so if you want to execute this notebook yourself, you'll need to install the following."
   ]
  },
  {
   "cell_type": "markdown",
   "metadata": {},
   "source": [
    "### Dependencies\n",
    "\n",
    "To get started you will need the following libraries. Here I am configuring using conda to create a custom environment:\n",
    "\n",
    "```\n",
    "conda create -n inference pip pyparsing html5lib notebook\n",
    "source activate inference\n",
    "pip install https://github.com/RDFLib/rdflib/archive/master.zip\n",
    "pip install https://github.com/RDFLib/OWL-RL/archive/master.zip\n",
    "```"
   ]
  },
  {
   "cell_type": "markdown",
   "metadata": {},
   "source": [
    "## Import RDF Libraries"
   ]
  },
  {
   "cell_type": "code",
   "execution_count": 1,
   "metadata": {
    "collapsed": true
   },
   "outputs": [],
   "source": [
    "import rdflib\n",
    "import RDFClosure"
   ]
  },
  {
   "cell_type": "markdown",
   "metadata": {},
   "source": [
    "## Create and Populate a Graph\n",
    "- First we create a graph to work with as an example\n",
    "- Then we add a single triple to the graph that only includes a label"
   ]
  },
  {
   "cell_type": "code",
   "execution_count": 2,
   "metadata": {
    "collapsed": true
   },
   "outputs": [],
   "source": [
    "g = rdflib.Graph()"
   ]
  },
  {
   "cell_type": "code",
   "execution_count": 3,
   "metadata": {
    "collapsed": true
   },
   "outputs": [],
   "source": [
    "ttl = \"\"\"@prefix : <#> .\n",
    "         @prefix rdf: <http://www.w3.org/1999/02/22-rdf-syntax-ns#> .\n",
    "         @prefix rdfs: <http://www.w3.org/2000/01/rdf-schema#> .\n",
    "         @prefix xml: <http://www.w3.org/XML/1998/namespace> .\n",
    "         @prefix xsd: <http://www.w3.org/2001/XMLSchema#> .\n",
    "         \n",
    "         :non-typed-indv rdfs:label \"Example Subject with no rdf:type information.\" .\n",
    "      \"\"\""
   ]
  },
  {
   "cell_type": "code",
   "execution_count": 4,
   "metadata": {
    "collapsed": false
   },
   "outputs": [
    {
     "data": {
      "text/plain": [
       "<Graph identifier=N3b10fe26085349e6bec65a1a5d333a92 (<class 'rdflib.graph.Graph'>)>"
      ]
     },
     "execution_count": 4,
     "metadata": {},
     "output_type": "execute_result"
    }
   ],
   "source": [
    "g.parse(data=ttl, format='turtle')"
   ]
  },
  {
   "cell_type": "code",
   "execution_count": 5,
   "metadata": {
    "collapsed": false
   },
   "outputs": [
    {
     "name": "stdout",
     "output_type": "stream",
     "text": [
      "@prefix : <file:///Users/nicholsn/Repos/nicholsn.github.io/content/notebooks/#> .\n",
      "@prefix rdf: <http://www.w3.org/1999/02/22-rdf-syntax-ns#> .\n",
      "@prefix rdfs: <http://www.w3.org/2000/01/rdf-schema#> .\n",
      "@prefix xml: <http://www.w3.org/XML/1998/namespace> .\n",
      "@prefix xsd: <http://www.w3.org/2001/XMLSchema#> .\n",
      "\n",
      ":non-typed-indv rdfs:label \"Example Subject with no rdf:type information.\" .\n",
      "\n",
      "\n"
     ]
    }
   ],
   "source": [
    "print g.serialize(format='turtle')"
   ]
  },
  {
   "cell_type": "markdown",
   "metadata": {
    "collapsed": true
   },
   "source": [
    "## Define an  OWL Classe and Datatype Property\n",
    "- Here we pull some example classes from an OWL file in the [Neuroimaging Data Model (NIDM)](http://nidm.nidash.org)\n",
    "- The first is an `owl:Class` representing a Mask Map\n",
    "- Next is an `owl:DatatypeProperty` with the class above listed as its `rdfs:domain`\n",
    "- We then add these semantics to the same graph as our simple example above"
   ]
  },
  {
   "cell_type": "code",
   "execution_count": 6,
   "metadata": {
    "collapsed": true
   },
   "outputs": [],
   "source": [
    "owl=\"\"\"\n",
    "    @prefix rdf: <http://www.w3.org/1999/02/22-rdf-syntax-ns#> .\n",
    "    @prefix rdfs: <http://www.w3.org/2000/01/rdf-schema#> .\n",
    "    @prefix xml: <http://www.w3.org/XML/1998/namespace> .\n",
    "    @prefix xsd: <http://www.w3.org/2001/XMLSchema#> .\n",
    "    @prefix owl: <http://www.w3.org/2002/07/owl#> .\n",
    "    @prefix obo: <http://purl.obolibrary.org/obo/> .\n",
    "    @prefix nidm: <http://purl.org/nidash/nidm#> .\n",
    "\n",
    "    nidm:NIDM_0000054 rdf:type owl:Class ;\n",
    "                      rdfs:label \"Mask Map\" ;\n",
    "                      obo:IAO_0000115 \"A binary map representing the exact set of elements (e.g., pixels, voxels, vertices, and faces) in which an activity was performed (e.g. the mask map generated by the model parameter estimation activity represents the exact set of voxels in which the mass univariate model was estimated) and/or restraining the space in which an activity was performed (e.g. the mask map used by inference)\" .\n",
    "                    \n",
    "    nidm:NIDM_0000158 rdf:type owl:DatatypeProperty ;\n",
    "                  rdfs:label \"noise FWHM In Vertices\" ;                  \n",
    "                  rdfs:comment \"Range: Vector of positive floats.\" ;\n",
    "                  obo:IAO_0000115 \"Estimated Full Width at Half Maximum of the spatial smoothness of the noise process in vertices.\" ;                  \n",
    "                  rdfs:domain nidm:NIDM_0000054 .\n",
    "    \"\"\""
   ]
  },
  {
   "cell_type": "code",
   "execution_count": 7,
   "metadata": {
    "collapsed": false
   },
   "outputs": [
    {
     "data": {
      "text/plain": [
       "<Graph identifier=N3b10fe26085349e6bec65a1a5d333a92 (<class 'rdflib.graph.Graph'>)>"
      ]
     },
     "execution_count": 7,
     "metadata": {},
     "output_type": "execute_result"
    }
   ],
   "source": [
    "g.parse(data=owl, format='turtle')"
   ]
  },
  {
   "cell_type": "code",
   "execution_count": 8,
   "metadata": {
    "collapsed": false
   },
   "outputs": [
    {
     "name": "stdout",
     "output_type": "stream",
     "text": [
      "@prefix : <file:///Users/nicholsn/Repos/nicholsn.github.io/content/notebooks/#> .\n",
      "@prefix nidm: <http://purl.org/nidash/nidm#> .\n",
      "@prefix obo: <http://purl.obolibrary.org/obo/> .\n",
      "@prefix owl: <http://www.w3.org/2002/07/owl#> .\n",
      "@prefix rdf: <http://www.w3.org/1999/02/22-rdf-syntax-ns#> .\n",
      "@prefix rdfs: <http://www.w3.org/2000/01/rdf-schema#> .\n",
      "@prefix xml: <http://www.w3.org/XML/1998/namespace> .\n",
      "@prefix xsd: <http://www.w3.org/2001/XMLSchema#> .\n",
      "\n",
      ":non-typed-indv rdfs:label \"Example Subject with no rdf:type information.\" .\n",
      "\n",
      "nidm:NIDM_0000158 a owl:DatatypeProperty ;\n",
      "    rdfs:label \"noise FWHM In Vertices\" ;\n",
      "    obo:IAO_0000115 \"Estimated Full Width at Half Maximum of the spatial smoothness of the noise process in vertices.\" ;\n",
      "    rdfs:comment \"Range: Vector of positive floats.\" ;\n",
      "    rdfs:domain nidm:NIDM_0000054 .\n",
      "\n",
      "nidm:NIDM_0000054 a owl:Class ;\n",
      "    rdfs:label \"Mask Map\" ;\n",
      "    obo:IAO_0000115 \"A binary map representing the exact set of elements (e.g., pixels, voxels, vertices, and faces) in which an activity was performed (e.g. the mask map generated by the model parameter estimation activity represents the exact set of voxels in which the mass univariate model was estimated) and/or restraining the space in which an activity was performed (e.g. the mask map used by inference)\" .\n",
      "\n",
      "\n"
     ]
    }
   ],
   "source": [
    "print g.serialize(format='turtle')"
   ]
  },
  {
   "cell_type": "markdown",
   "metadata": {},
   "source": [
    "## Applying RDFS Reasoning\n",
    "- First we will just apply reasoning to the graph as-is and see the result\n",
    "- Then we will add our datatype property to the individual to see what the result is after reasoning"
   ]
  },
  {
   "cell_type": "code",
   "execution_count": 9,
   "metadata": {
    "collapsed": true
   },
   "outputs": [],
   "source": [
    "rdfs = RDFClosure.DeductiveClosure(RDFClosure.RDFS_Semantics)\n",
    "rdfs.expand(g)"
   ]
  },
  {
   "cell_type": "code",
   "execution_count": 10,
   "metadata": {
    "collapsed": false
   },
   "outputs": [
    {
     "name": "stdout",
     "output_type": "stream",
     "text": [
      "@prefix : <file:///Users/nicholsn/Repos/nicholsn.github.io/content/notebooks/#> .\n",
      "@prefix nidm: <http://purl.org/nidash/nidm#> .\n",
      "@prefix obo: <http://purl.obolibrary.org/obo/> .\n",
      "@prefix owl: <http://www.w3.org/2002/07/owl#> .\n",
      "@prefix rdf: <http://www.w3.org/1999/02/22-rdf-syntax-ns#> .\n",
      "@prefix rdfs: <http://www.w3.org/2000/01/rdf-schema#> .\n",
      "@prefix xml: <http://www.w3.org/XML/1998/namespace> .\n",
      "@prefix xsd: <http://www.w3.org/2001/XMLSchema#> .\n",
      "\n",
      ":non-typed-indv a rdfs:Resource ;\n",
      "    rdfs:label \"Example Subject with no rdf:type information.\" .\n",
      "\n",
      "nidm:NIDM_0000158 a rdfs:Resource,\n",
      "        owl:DatatypeProperty ;\n",
      "    rdfs:label \"noise FWHM In Vertices\" ;\n",
      "    obo:IAO_0000115 \"Estimated Full Width at Half Maximum of the spatial smoothness of the noise process in vertices.\" ;\n",
      "    rdfs:comment \"Range: Vector of positive floats.\" ;\n",
      "    rdfs:domain nidm:NIDM_0000054 .\n",
      "\n",
      "rdfs:Literal a rdfs:Resource .\n",
      "\n",
      "obo:IAO_0000115 a rdf:Property ;\n",
      "    rdfs:subPropertyOf obo:IAO_0000115 .\n",
      "\n",
      "nidm:NIDM_0000054 a rdfs:Resource,\n",
      "        owl:Class ;\n",
      "    rdfs:label \"Mask Map\" ;\n",
      "    obo:IAO_0000115 \"A binary map representing the exact set of elements (e.g., pixels, voxels, vertices, and faces) in which an activity was performed (e.g. the mask map generated by the model parameter estimation activity represents the exact set of voxels in which the mass univariate model was estimated) and/or restraining the space in which an activity was performed (e.g. the mask map used by inference)\" .\n",
      "\n",
      "rdf:type a rdf:Property ;\n",
      "    rdfs:subPropertyOf rdf:type .\n",
      "\n",
      "rdfs:comment a rdf:Property ;\n",
      "    rdfs:subPropertyOf rdfs:comment .\n",
      "\n",
      "rdfs:domain a rdf:Property ;\n",
      "    rdfs:subPropertyOf rdfs:domain .\n",
      "\n",
      "rdfs:label a rdf:Property ;\n",
      "    rdfs:subPropertyOf rdfs:label .\n",
      "\n",
      "rdfs:subPropertyOf a rdf:Property ;\n",
      "    rdfs:subPropertyOf rdfs:subPropertyOf .\n",
      "\n",
      "owl:Class a rdfs:Resource .\n",
      "\n",
      "owl:DatatypeProperty a rdfs:Resource .\n",
      "\n",
      "\n"
     ]
    }
   ],
   "source": [
    "print g.serialize(format='turtle')"
   ]
  },
  {
   "cell_type": "markdown",
   "metadata": {},
   "source": [
    "### Notes on the explanded graph\n",
    "- Here you now see that some basic triples have bee added to the graph that were not previously available.\n",
    "- There isn't much interesting added, although you'll see that our `:non-typed-indv a rdfs:Resource`"
   ]
  },
  {
   "cell_type": "markdown",
   "metadata": {},
   "source": [
    "## Adding a Datatype Property\n",
    "- We now use one of the NIDM datatype properties on our example triple and give it a value\n",
    "- Note that when the statement is parsed it is simply appended below our `:non-typed-indv`"
   ]
  },
  {
   "cell_type": "code",
   "execution_count": 11,
   "metadata": {
    "collapsed": true
   },
   "outputs": [],
   "source": [
    "datatype = \"\"\"\n",
    "           @prefix : <#> .\n",
    "           @prefix nidm: <http://purl.org/nidash/nidm#> .\n",
    "\n",
    "           :non-typed-indv nidm:NIDM_0000158 \"[2.95, 2.96, 2.61]\" .\n",
    "\"\"\""
   ]
  },
  {
   "cell_type": "code",
   "execution_count": 12,
   "metadata": {
    "collapsed": false
   },
   "outputs": [
    {
     "data": {
      "text/plain": [
       "<Graph identifier=N3b10fe26085349e6bec65a1a5d333a92 (<class 'rdflib.graph.Graph'>)>"
      ]
     },
     "execution_count": 12,
     "metadata": {},
     "output_type": "execute_result"
    }
   ],
   "source": [
    "g.parse(data=datatype, format='turtle')"
   ]
  },
  {
   "cell_type": "code",
   "execution_count": 13,
   "metadata": {
    "collapsed": false
   },
   "outputs": [
    {
     "name": "stdout",
     "output_type": "stream",
     "text": [
      "@prefix : <file:///Users/nicholsn/Repos/nicholsn.github.io/content/notebooks/#> .\n",
      "@prefix nidm: <http://purl.org/nidash/nidm#> .\n",
      "@prefix obo: <http://purl.obolibrary.org/obo/> .\n",
      "@prefix owl: <http://www.w3.org/2002/07/owl#> .\n",
      "@prefix rdf: <http://www.w3.org/1999/02/22-rdf-syntax-ns#> .\n",
      "@prefix rdfs: <http://www.w3.org/2000/01/rdf-schema#> .\n",
      "@prefix xml: <http://www.w3.org/XML/1998/namespace> .\n",
      "@prefix xsd: <http://www.w3.org/2001/XMLSchema#> .\n",
      "\n",
      ":non-typed-indv a rdfs:Resource ;\n",
      "    rdfs:label \"Example Subject with no rdf:type information.\" ;\n",
      "    nidm:NIDM_0000158 \"[2.95, 2.96, 2.61]\" .\n",
      "\n",
      "nidm:NIDM_0000158 a rdfs:Resource,\n",
      "        owl:DatatypeProperty ;\n",
      "    rdfs:label \"noise FWHM In Vertices\" ;\n",
      "    obo:IAO_0000115 \"Estimated Full Width at Half Maximum of the spatial smoothness of the noise process in vertices.\" ;\n",
      "    rdfs:comment \"Range: Vector of positive floats.\" ;\n",
      "    rdfs:domain nidm:NIDM_0000054 .\n",
      "\n",
      "rdfs:Literal a rdfs:Resource .\n",
      "\n",
      "obo:IAO_0000115 a rdf:Property ;\n",
      "    rdfs:subPropertyOf obo:IAO_0000115 .\n",
      "\n",
      "nidm:NIDM_0000054 a rdfs:Resource,\n",
      "        owl:Class ;\n",
      "    rdfs:label \"Mask Map\" ;\n",
      "    obo:IAO_0000115 \"A binary map representing the exact set of elements (e.g., pixels, voxels, vertices, and faces) in which an activity was performed (e.g. the mask map generated by the model parameter estimation activity represents the exact set of voxels in which the mass univariate model was estimated) and/or restraining the space in which an activity was performed (e.g. the mask map used by inference)\" .\n",
      "\n",
      "rdf:type a rdf:Property ;\n",
      "    rdfs:subPropertyOf rdf:type .\n",
      "\n",
      "rdfs:comment a rdf:Property ;\n",
      "    rdfs:subPropertyOf rdfs:comment .\n",
      "\n",
      "rdfs:domain a rdf:Property ;\n",
      "    rdfs:subPropertyOf rdfs:domain .\n",
      "\n",
      "rdfs:label a rdf:Property ;\n",
      "    rdfs:subPropertyOf rdfs:label .\n",
      "\n",
      "rdfs:subPropertyOf a rdf:Property ;\n",
      "    rdfs:subPropertyOf rdfs:subPropertyOf .\n",
      "\n",
      "owl:Class a rdfs:Resource .\n",
      "\n",
      "owl:DatatypeProperty a rdfs:Resource .\n",
      "\n",
      "\n"
     ]
    }
   ],
   "source": [
    "print g.serialize(format='turtle')"
   ]
  },
  {
   "cell_type": "markdown",
   "metadata": {},
   "source": [
    "### Inferring additional type information using rdfs:domain semantics\n",
    "- Next we will expand the graph and see what happens"
   ]
  },
  {
   "cell_type": "code",
   "execution_count": 14,
   "metadata": {
    "collapsed": false
   },
   "outputs": [
    {
     "name": "stdout",
     "output_type": "stream",
     "text": [
      "@prefix : <file:///Users/nicholsn/Repos/nicholsn.github.io/content/notebooks/#> .\n",
      "@prefix nidm: <http://purl.org/nidash/nidm#> .\n",
      "@prefix obo: <http://purl.obolibrary.org/obo/> .\n",
      "@prefix owl: <http://www.w3.org/2002/07/owl#> .\n",
      "@prefix rdf: <http://www.w3.org/1999/02/22-rdf-syntax-ns#> .\n",
      "@prefix rdfs: <http://www.w3.org/2000/01/rdf-schema#> .\n",
      "@prefix xml: <http://www.w3.org/XML/1998/namespace> .\n",
      "@prefix xsd: <http://www.w3.org/2001/XMLSchema#> .\n",
      "\n",
      ":non-typed-indv a nidm:NIDM_0000054,\n",
      "        rdfs:Resource ;\n",
      "    rdfs:label \"Example Subject with no rdf:type information.\" ;\n",
      "    nidm:NIDM_0000158 \"[2.95, 2.96, 2.61]\" .\n",
      "\n",
      "rdfs:Literal a rdfs:Resource .\n",
      "\n",
      "obo:IAO_0000115 a rdf:Property,\n",
      "        rdfs:Resource ;\n",
      "    rdfs:subPropertyOf obo:IAO_0000115 .\n",
      "\n",
      "nidm:NIDM_0000158 a rdf:Property,\n",
      "        rdfs:Resource,\n",
      "        owl:DatatypeProperty ;\n",
      "    rdfs:label \"noise FWHM In Vertices\" ;\n",
      "    obo:IAO_0000115 \"Estimated Full Width at Half Maximum of the spatial smoothness of the noise process in vertices.\" ;\n",
      "    rdfs:comment \"Range: Vector of positive floats.\" ;\n",
      "    rdfs:domain nidm:NIDM_0000054 ;\n",
      "    rdfs:subPropertyOf nidm:NIDM_0000158 .\n",
      "\n",
      "rdf:type a rdf:Property,\n",
      "        rdfs:Resource ;\n",
      "    rdfs:subPropertyOf rdf:type .\n",
      "\n",
      "rdfs:comment a rdf:Property,\n",
      "        rdfs:Resource ;\n",
      "    rdfs:subPropertyOf rdfs:comment .\n",
      "\n",
      "rdfs:domain a rdf:Property,\n",
      "        rdfs:Resource ;\n",
      "    rdfs:subPropertyOf rdfs:domain .\n",
      "\n",
      "rdfs:label a rdf:Property,\n",
      "        rdfs:Resource ;\n",
      "    rdfs:subPropertyOf rdfs:label .\n",
      "\n",
      "rdfs:subPropertyOf a rdf:Property,\n",
      "        rdfs:Resource ;\n",
      "    rdfs:subPropertyOf rdfs:subPropertyOf .\n",
      "\n",
      "owl:Class a rdfs:Resource .\n",
      "\n",
      "owl:DatatypeProperty a rdfs:Resource .\n",
      "\n",
      "nidm:NIDM_0000054 a rdfs:Resource,\n",
      "        owl:Class ;\n",
      "    rdfs:label \"Mask Map\" ;\n",
      "    obo:IAO_0000115 \"A binary map representing the exact set of elements (e.g., pixels, voxels, vertices, and faces) in which an activity was performed (e.g. the mask map generated by the model parameter estimation activity represents the exact set of voxels in which the mass univariate model was estimated) and/or restraining the space in which an activity was performed (e.g. the mask map used by inference)\" .\n",
      "\n",
      "rdf:Property a rdfs:Resource .\n",
      "\n",
      "rdfs:Resource a rdfs:Resource .\n",
      "\n",
      "\n"
     ]
    }
   ],
   "source": [
    "rdfs.expand(g)\n",
    "print g.serialize(format='turtle')"
   ]
  },
  {
   "cell_type": "markdown",
   "metadata": {},
   "source": [
    "### Interpreting the results\n",
    "- As you'll notice, we now have an additional `rdf:type` associated with our `:non-typed-indv` indicating that it is a `nidm:NIDM_0000054`\n",
    "- This new type indicates that our object is a \"Mask Map\", but is that what we wanted? Possibly, but let's think about this a bit more...\n",
    "\n",
    "When we are modeling a given domain in OWL it is important to know what inferences will come out of your design decisions. Here, the use of `rdfs:domain` on an `owl:DatatypePropery` caused us to infer specific type information simply by using the property.\n",
    " \n",
    "In this case the property is for \"noise FWHM In Verticies\", which is pretty specific with the definition of:\n",
    "\n",
    "> \"Estimated Full Width at Half Maximum of the spatial smoothness of the noise process in vertices.\"\n",
    "\n",
    "Any resource using this property, where the author read the definition, is probably in good shape to infer that this is likely a \"Mask Map\"; however, it is important to ask the question:\n",
    "\n",
    "> \"Is there ever a situation where this property could be reasonably applied to an object that is not a Mask Map?\"\n",
    "\n",
    "Possibly not, but inferring new types is not what I originally though of intuitively in the context of data modeling. My original expectation, from a modeling perspective using XSD or relational databases, is that `rdfs:domain` would place a restriction that could be used to validate if this object indeed conforms to its type definition. This is clearly not the case with RDFS reasoning.\n",
    "\n",
    "For validation with RDF models there is, surprisingly, no straightforward solution. Although there are a number of efforts in this space with [SPIN Rules](http://spinrdf.org) and [ShEx RDF Shape Expressions](http://www.w3.org/2001/sw/wiki/ShEx). \n",
    "\n",
    "Another avenue to explore in a future post is the use of [OWL Property Restrictions](http://www.w3.org/TR/owl2-primer/#Property_Restrictions)"
   ]
  }
 ],
 "metadata": {
  "kernelspec": {
   "display_name": "Python 2",
   "language": "python",
   "name": "python2"
  },
  "language_info": {
   "codemirror_mode": {
    "name": "ipython",
    "version": 2
   },
   "file_extension": ".py",
   "mimetype": "text/x-python",
   "name": "python",
   "nbconvert_exporter": "python",
   "pygments_lexer": "ipython2",
   "version": "2.7.10"
  }
 },
 "nbformat": 4,
 "nbformat_minor": 0
}
